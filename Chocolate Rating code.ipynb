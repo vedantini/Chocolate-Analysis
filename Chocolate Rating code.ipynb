{
 "cells": [
  {
   "cell_type": "code",
   "execution_count": 16,
   "id": "2f85312d",
   "metadata": {},
   "outputs": [],
   "source": [
    "import pandas as pd\n",
    "import numpy as np\n",
    "from collections import Counter\n",
    "from collections import defaultdict\n",
    "import heapq\n",
    "import pandas as pd\n",
    "import statsmodels.api as sm\n"
   ]
  },
  {
   "cell_type": "code",
   "execution_count": 17,
   "id": "f7ec7551",
   "metadata": {},
   "outputs": [
    {
     "data": {
      "text/html": [
       "<div>\n",
       "<style scoped>\n",
       "    .dataframe tbody tr th:only-of-type {\n",
       "        vertical-align: middle;\n",
       "    }\n",
       "\n",
       "    .dataframe tbody tr th {\n",
       "        vertical-align: top;\n",
       "    }\n",
       "\n",
       "    .dataframe thead th {\n",
       "        text-align: right;\n",
       "    }\n",
       "</style>\n",
       "<table border=\"1\" class=\"dataframe\">\n",
       "  <thead>\n",
       "    <tr style=\"text-align: right;\">\n",
       "      <th></th>\n",
       "      <th>REF</th>\n",
       "      <th>Company (Manufacturer)</th>\n",
       "      <th>Company Location</th>\n",
       "      <th>Review Date</th>\n",
       "      <th>Country of Bean Origin</th>\n",
       "      <th>Specific Bean Origin or Bar Name</th>\n",
       "      <th>Cocoa Percent</th>\n",
       "      <th>Ingredient Count</th>\n",
       "      <th>Ingredients</th>\n",
       "      <th>Most Memorable Characteristics</th>\n",
       "      <th>Rating</th>\n",
       "    </tr>\n",
       "  </thead>\n",
       "  <tbody>\n",
       "    <tr>\n",
       "      <th>0</th>\n",
       "      <td>999</td>\n",
       "      <td>Bahen &amp; Co.</td>\n",
       "      <td>Australia</td>\n",
       "      <td>2012</td>\n",
       "      <td>Blend</td>\n",
       "      <td>Houseblend</td>\n",
       "      <td>70.0</td>\n",
       "      <td>2.0</td>\n",
       "      <td>B,S</td>\n",
       "      <td>chalky, fragrant, then off</td>\n",
       "      <td>2.50</td>\n",
       "    </tr>\n",
       "    <tr>\n",
       "      <th>1</th>\n",
       "      <td>999</td>\n",
       "      <td>Bahen &amp; Co.</td>\n",
       "      <td>Australia</td>\n",
       "      <td>2012</td>\n",
       "      <td>Brazil</td>\n",
       "      <td>Bahia</td>\n",
       "      <td>70.0</td>\n",
       "      <td>2.0</td>\n",
       "      <td>B,S</td>\n",
       "      <td>chalky, intense, chemical</td>\n",
       "      <td>2.50</td>\n",
       "    </tr>\n",
       "    <tr>\n",
       "      <th>2</th>\n",
       "      <td>999</td>\n",
       "      <td>Mast Brothers</td>\n",
       "      <td>U.S.A.</td>\n",
       "      <td>2012</td>\n",
       "      <td>Venezuela</td>\n",
       "      <td>Chuao</td>\n",
       "      <td>73.0</td>\n",
       "      <td>2.0</td>\n",
       "      <td>B,S</td>\n",
       "      <td>gritty, sour, sweet</td>\n",
       "      <td>2.75</td>\n",
       "    </tr>\n",
       "    <tr>\n",
       "      <th>3</th>\n",
       "      <td>999</td>\n",
       "      <td>Mast Brothers</td>\n",
       "      <td>U.S.A.</td>\n",
       "      <td>2012</td>\n",
       "      <td>Blend</td>\n",
       "      <td>Madagascar</td>\n",
       "      <td>72.0</td>\n",
       "      <td>2.0</td>\n",
       "      <td>B,S</td>\n",
       "      <td>gritty, overly tart, sour</td>\n",
       "      <td>2.50</td>\n",
       "    </tr>\n",
       "    <tr>\n",
       "      <th>4</th>\n",
       "      <td>995</td>\n",
       "      <td>Bahen &amp; Co.</td>\n",
       "      <td>Australia</td>\n",
       "      <td>2012</td>\n",
       "      <td>Madagascar</td>\n",
       "      <td>Sambirano</td>\n",
       "      <td>70.0</td>\n",
       "      <td>2.0</td>\n",
       "      <td>B,S</td>\n",
       "      <td>unrefined, flat, grassy</td>\n",
       "      <td>3.00</td>\n",
       "    </tr>\n",
       "  </tbody>\n",
       "</table>\n",
       "</div>"
      ],
      "text/plain": [
       "   REF Company (Manufacturer) Company Location  Review Date  \\\n",
       "0  999            Bahen & Co.        Australia         2012   \n",
       "1  999            Bahen & Co.        Australia         2012   \n",
       "2  999          Mast Brothers           U.S.A.         2012   \n",
       "3  999          Mast Brothers           U.S.A.         2012   \n",
       "4  995            Bahen & Co.        Australia         2012   \n",
       "\n",
       "  Country of Bean Origin Specific Bean Origin or Bar Name  Cocoa Percent  \\\n",
       "0                  Blend                       Houseblend           70.0   \n",
       "1                 Brazil                            Bahia           70.0   \n",
       "2              Venezuela                            Chuao           73.0   \n",
       "3                  Blend                       Madagascar           72.0   \n",
       "4             Madagascar                        Sambirano           70.0   \n",
       "\n",
       "   Ingredient Count Ingredients Most Memorable Characteristics  Rating  \n",
       "0               2.0         B,S     chalky, fragrant, then off    2.50  \n",
       "1               2.0         B,S      chalky, intense, chemical    2.50  \n",
       "2               2.0         B,S            gritty, sour, sweet    2.75  \n",
       "3               2.0         B,S      gritty, overly tart, sour    2.50  \n",
       "4               2.0         B,S        unrefined, flat, grassy    3.00  "
      ]
     },
     "execution_count": 17,
     "metadata": {},
     "output_type": "execute_result"
    }
   ],
   "source": [
    "\n",
    "# Load the data into a DataFrame\n",
    "df = pd.read_excel(\"~/Chocolate.xlsx\")\n",
    "\n",
    "df['Cocoa Percent'] = df['Cocoa Percent']*100\n",
    "df.head()"
   ]
  },
  {
   "cell_type": "code",
   "execution_count": 18,
   "id": "4208016b",
   "metadata": {},
   "outputs": [],
   "source": [
    "\n",
    "df['Cocoa Percent'] = df['Cocoa Percent'].astype(str)\n",
    "df['Cocoa Percent'] = df['Cocoa Percent'].str.replace('%', '').astype(float)  # Convert to float\n",
    "\n",
    "df['Rating'] = df['Rating'].astype(int)\n",
    "df['Ingredients'] = df['Ingredients'].astype(str)\n"
   ]
  },
  {
   "cell_type": "code",
   "execution_count": 4,
   "id": "44eb086d",
   "metadata": {},
   "outputs": [],
   "source": [
    "\n",
    "\n",
    "#Filter the DataFrame for the cocoa percentage range\n",
    "cocoa_40_50_df = df[(df['Cocoa Percent'] >= 40) & (df['Cocoa Percent'] <= 50)]\n",
    "\n",
    "cocoa_50_60_df = df[(df['Cocoa Percent'] >= 50) & (df['Cocoa Percent'] <= 60)]\n",
    "cocoa_60_70_df = df[(df['Cocoa Percent'] >= 60) & (df['Cocoa Percent'] <= 70)]\n",
    "cocoa_70_80_df = df[(df['Cocoa Percent'] >= 70) & (df['Cocoa Percent'] <= 80)]\n",
    "cocoa_80_90_df = df[(df['Cocoa Percent'] >= 80) & (df['Cocoa Percent'] <= 90)]\n",
    "cocoa_90_100_df= df[(df['Cocoa Percent'] >= 90) & (df['Cocoa Percent'] <= 100)]\n"
   ]
  },
  {
   "cell_type": "code",
   "execution_count": 5,
   "id": "4dfb709d",
   "metadata": {},
   "outputs": [],
   "source": [
    "\n",
    "\n",
    "def analyze_chocolate(cocoadf,cocoa_range):\n",
    "    # Calculate average rating\n",
    "    average_rating = cocoadf['Rating'].mean()\n",
    "\n",
    "    # Get the top 5 origins\n",
    "    top_5_origins = cocoadf['Country of Bean Origin'].value_counts().head(5)\n",
    "\n",
    "    # Aggregate notes and ingredients\n",
    "    all_notes = ' '.join(cocoadf['Most Memorable Characteristics'].dropna()).split(',')\n",
    "    all_ingredients = ' '.join(cocoadf['Ingredients']).split(',')\n",
    "\n",
    "    notes_counter = Counter(note.strip() for note in all_notes if note)\n",
    "    ingredients_counter = Counter(ingredient.strip() for ingredient in all_ingredients if ingredient)\n",
    "\n",
    "    top_5_notes = notes_counter.most_common(5)\n",
    "    top_3_ingredients = ingredients_counter.most_common(3)\n",
    "\n",
    "    # Display the results\n",
    "    print(f'Records processed : { len(cocoadf)}')\n",
    "    print(f'Chocolate bars with {cocoa_range} cocoa have an average rating of {average_rating:.2f}')\n",
    "    print(f'Top 5 Origins: {\", \".join(f\"{origin} ({count})\" for origin, count in top_5_origins.items())}')\n",
    "    print(f'Top 5 Notes: {\", \".join(note for note, _ in top_5_notes)}')\n",
    "    print(f'Common Ingredients: {\", \".join(ingredient for ingredient, _ in top_3_ingredients)}')\n",
    "\n",
    "\n",
    "\n",
    "\n"
   ]
  },
  {
   "cell_type": "code",
   "execution_count": 6,
   "id": "ae4c1b2c",
   "metadata": {},
   "outputs": [
    {
     "name": "stdout",
     "output_type": "stream",
     "text": [
      "Records processed : 3\n",
      "Chocolate bars with 40–50% cocoa have an average rating of 2.33\n",
      "Top 5 Origins: Brazil (1), Blend (1), Martinique (1)\n",
      "Top 5 Notes: very sweet, bright red, banana very sweet, caramel, candy gritty\n",
      "Common Ingredients: S, C, L  B\n"
     ]
    }
   ],
   "source": [
    "analyze_chocolate(cocoa_40_50_df,\"40–50%\")\n"
   ]
  },
  {
   "cell_type": "code",
   "execution_count": 7,
   "id": "119cfa14",
   "metadata": {},
   "outputs": [
    {
     "name": "stdout",
     "output_type": "stream",
     "text": [
      "Records processed : 76\n",
      "Chocolate bars with 50–60% cocoa have an average rating of 2.64\n",
      "Top 5 Origins: Blend (14), Ecuador (13), Peru (6), Venezuela (6), Brazil (5)\n",
      "Top 5 Notes: sweet, nutty, vanilla, dairy, hazelnut\n",
      "Common Ingredients: S, C, L  B\n"
     ]
    }
   ],
   "source": [
    "analyze_chocolate(cocoa_50_60_df,\"50–60%\")\n"
   ]
  },
  {
   "cell_type": "code",
   "execution_count": 8,
   "id": "50046895",
   "metadata": {},
   "outputs": [
    {
     "name": "stdout",
     "output_type": "stream",
     "text": [
      "Records processed : 1474\n",
      "Chocolate bars with 60–70% cocoa have an average rating of 2.87\n",
      "Top 5 Origins: Peru (159), Dominican Republic (136), Venezuela (130), Madagascar (108), Ecuador (97)\n",
      "Top 5 Notes: sweet, nutty, earthy, cocoa, floral\n",
      "Common Ingredients: S, C  B, S  B\n"
     ]
    }
   ],
   "source": [
    "analyze_chocolate(cocoa_60_70_df,\"60–70%\")\n"
   ]
  },
  {
   "cell_type": "code",
   "execution_count": 9,
   "id": "fedef2e8",
   "metadata": {},
   "outputs": [
    {
     "name": "stdout",
     "output_type": "stream",
     "text": [
      "Records processed : 2133\n",
      "Chocolate bars with 70–80% cocoa have an average rating of 2.84\n",
      "Top 5 Origins: Venezuela (220), Peru (207), Dominican Republic (199), Ecuador (167), Madagascar (146)\n",
      "Top 5 Notes: nutty, roasty, sweet, cocoa, earthy\n",
      "Common Ingredients: S, C  B, S  B\n"
     ]
    }
   ],
   "source": [
    "analyze_chocolate(cocoa_70_80_df,\"70–80%\")\n"
   ]
  },
  {
   "cell_type": "code",
   "execution_count": 10,
   "id": "b00a1815",
   "metadata": {},
   "outputs": [
    {
     "name": "stdout",
     "output_type": "stream",
     "text": [
      "Records processed : 187\n",
      "Chocolate bars with 80–90% cocoa have an average rating of 2.66\n",
      "Top 5 Origins: Ecuador (29), Blend (19), Venezuela (17), Dominican Republic (17), Peru (12)\n",
      "Top 5 Notes: bitter, earthy, fruit, tart, spicy\n",
      "Common Ingredients: S, C  B, C\n"
     ]
    }
   ],
   "source": [
    "analyze_chocolate(cocoa_80_90_df,\"80–90%\")\n"
   ]
  },
  {
   "cell_type": "code",
   "execution_count": 11,
   "id": "91dac550",
   "metadata": {},
   "outputs": [
    {
     "name": "stdout",
     "output_type": "stream",
     "text": [
      "Records processed : 35\n",
      "Chocolate bars with 90–100% cocoa have an average rating of 2.17\n",
      "Top 5 Origins: Ecuador (11), Blend (9), Venezuela (3), Madagascar (2), Peru (2)\n",
      "Top 5 Notes: bitter, spicy, intense, mild fruit, tart\n",
      "Common Ingredients: S, C, C  B\n"
     ]
    }
   ],
   "source": [
    "analyze_chocolate(cocoa_90_100_df,\"90–100%\")"
   ]
  },
  {
   "cell_type": "code",
   "execution_count": 14,
   "id": "469bda24",
   "metadata": {},
   "outputs": [
    {
     "data": {
      "text/plain": [
       "0       70.0\n",
       "1       70.0\n",
       "2       73.0\n",
       "3       72.0\n",
       "4       70.0\n",
       "        ... \n",
       "2652    85.0\n",
       "2653    72.0\n",
       "2654    72.0\n",
       "2655    72.0\n",
       "2656    72.0\n",
       "Name: Cocoa Percent, Length: 2657, dtype: float64"
      ]
     },
     "execution_count": 14,
     "metadata": {},
     "output_type": "execute_result"
    }
   ],
   "source": [
    "df['Cocoa Percent']\n"
   ]
  },
  {
   "cell_type": "code",
   "execution_count": 19,
   "id": "cb3293c4",
   "metadata": {},
   "outputs": [
    {
     "name": "stdout",
     "output_type": "stream",
     "text": [
      "                            OLS Regression Results                            \n",
      "==============================================================================\n",
      "Dep. Variable:                 Rating   R-squared:                       0.014\n",
      "Model:                            OLS   Adj. R-squared:                  0.014\n",
      "Method:                 Least Squares   F-statistic:                     38.83\n",
      "Date:                Sun, 05 Nov 2023   Prob (F-statistic):           5.37e-10\n",
      "Time:                        21:46:34   Log-Likelihood:                -1905.4\n",
      "No. Observations:                2657   AIC:                             3815.\n",
      "Df Residuals:                    2655   BIC:                             3827.\n",
      "Df Model:                           1                                         \n",
      "Covariance Type:            nonrobust                                         \n",
      "=================================================================================\n",
      "                    coef    std err          t      P>|t|      [0.025      0.975]\n",
      "---------------------------------------------------------------------------------\n",
      "const             3.5921      0.125     28.767      0.000       3.347       3.837\n",
      "Cocoa Percent    -0.0108      0.002     -6.231      0.000      -0.014      -0.007\n",
      "==============================================================================\n",
      "Omnibus:                      177.861   Durbin-Watson:                   1.709\n",
      "Prob(Omnibus):                  0.000   Jarque-Bera (JB):              239.635\n",
      "Skew:                          -0.589   Prob(JB):                     9.20e-53\n",
      "Kurtosis:                       3.881   Cond. No.                         933.\n",
      "==============================================================================\n",
      "\n",
      "Notes:\n",
      "[1] Standard Errors assume that the covariance matrix of the errors is correctly specified.\n"
     ]
    },
    {
     "data": {
      "image/png": "[encoded data removed]",
      "text/plain": [
       "<Figure size 640x480 with 1 Axes>"
      ]
     },
     "metadata": {},
     "output_type": "display_data"
    }
   ],
   "source": [
    "\n",
    "\n",
    "# Define the predictor (X) and response (y) variables\n",
    "X = df[['Cocoa Percent']]  # The predictor variable(s)\n",
    "y = df['Rating']           # The response variable\n",
    "\n",
    "# Add a constant to the predictor variable set to represent the intercept\n",
    "X = sm.add_constant(X)\n",
    "\n",
    "# Create a model and fit it\n",
    "model = sm.OLS(y, X).fit()\n",
    "\n",
    "# See the summary of the regression\n",
    "print(model.summary())\n",
    "\n",
    "# Use the model to make predictions\n",
    "df['Predicted Rating'] = model.predict(X)\n",
    "\n",
    "# Plot the results\n",
    "import matplotlib.pyplot as plt\n",
    "\n",
    "plt.scatter(df['Cocoa Percent'], df['Rating'], alpha=0.5, label='Actual Rating')\n",
    "plt.plot(df['Cocoa Percent'], df['Predicted Rating'], color='red', label='Predicted Rating')\n",
    "plt.xlabel('Cocoa Percent')\n",
    "plt.ylabel('Rating')\n",
    "plt.title('Linear Regression of Cocoa Percent on Rating')\n",
    "plt.legend()\n",
    "plt.show()\n"
   ]
  },
  {
   "cell_type": "code",
   "execution_count": null,
   "id": "dd965ea4",
   "metadata": {},
   "outputs": [],
   "source": []
  }
 ],
 "metadata": {
  "kernelspec": {
   "display_name": "Python 3 (ipykernel)",
   "language": "python",
   "name": "python3"
  },
  "language_info": {
   "codemirror_mode": {
    "name": "ipython",
    "version": 3
   },
   "file_extension": ".py",
   "mimetype": "text/x-python",
   "name": "python",
   "nbconvert_exporter": "python",
   "pygments_lexer": "ipython3",
   "version": "3.11.4"
  }
 },
 "nbformat": 4,
 "nbformat_minor": 5
}
